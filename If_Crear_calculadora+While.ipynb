{
  "cells": [
    {
      "cell_type": "markdown",
      "metadata": {
        "id": "view-in-github",
        "colab_type": "text"
      },
      "source": [
        "<a href=\"https://colab.research.google.com/github/Pablosky99/programacion-1-bach-/blob/main/If_Crear_calculadora%2BWhile.ipynb\" target=\"_parent\"><img src=\"https://colab.research.google.com/assets/colab-badge.svg\" alt=\"Open In Colab\"/></a>"
      ]
    },
    {
      "cell_type": "code",
      "execution_count": null,
      "metadata": {
        "colab": {
          "base_uri": "https://localhost:8080/"
        },
        "id": "11_hdZIP4rA0",
        "outputId": "f7a1b8b6-ec2c-4974-87dd-c9c53cb91103"
      },
      "outputs": [
        {
          "name": "stdout",
          "output_type": "stream",
          "text": [
            "Bienvenido a la calculadora: \n",
            "Elija una de las siguientes opciones:\n",
            "1.Suma\n",
            "2.Resta\n",
            "3.Multiplicación\n",
            "4.División decimal\n",
            "5.División entera\n",
            "6.Potencia\n",
            "0.Salir\n",
            "Seleccione la operación que desee:0\n",
            "Salir\n"
          ]
        }
      ],
      "source": [
        "#Ejercicio 6 Creación calculadora\n",
        "#Pablo Picó\n",
        "#5/12/2022\n",
        "print(\"Bienvenido a la calculadora: \")\n",
        "print(\"Elija una de las siguientes opciones:\")\n",
        "print(\"1.Suma\")\n",
        "print(\"2.Resta\")\n",
        "print(\"3.Multiplicación\")\n",
        "print(\"4.División decimal\")\n",
        "print(\"5.División entera\")\n",
        "print(\"6.Potencia\")\n",
        "print(\"0.Salir\")\n",
        "seleccion=input(\"Seleccione la operación que desee:\")\n",
        "if seleccion in [\"1\",\"2\",\"3\",\"4\",\"5\",\"6\"]:\n",
        "  num1=float(input(\"Introduzca un numero: \"))\n",
        "  num2=float(input(\"Introduzca otro numero: \"))\n",
        "\n",
        "if seleccion==\"1\":\n",
        "  print(\"La suma entre los dos numeros es:\",float(num1)+float(num2))\n",
        "elif seleccion==\"2\":\n",
        "  print(\"La resta entre los dos numeros es:\",float(num1)-float(num2))\n",
        "elif seleccion==\"3\":\n",
        "  print(\"La multiplicacion entre los dos numeros es:\",float(num1)*float(num2))\n",
        "elif seleccion==\"4\":\n",
        "  print(\"La división decimal entre los dos numeros es:\",float(num1)/float(num2))\n",
        "elif seleccion==\"5\":\n",
        "  print(\"La división entera entre los dos numeros es:\",int(num1)//int(num2))\n",
        "  print(\"El resto de la división entera es:\",int(num1)%int(num2))\n",
        "elif seleccion==\"6\":\n",
        "  print(\"La potencia entre los dos numeros es:\",float(num1)**float(num2))\n",
        "elif seleccion==\"0\":\n",
        "  print(\"Salir\")\n",
        "else:\n",
        "  print(\"No ha escogido ninguna de las opciones.\") "
      ]
    },
    {
      "cell_type": "code",
      "execution_count": null,
      "metadata": {
        "colab": {
          "base_uri": "https://localhost:8080/"
        },
        "id": "3bJYtbRP6b7G",
        "outputId": "089e99f2-a3c9-4942-9f80-cdd6cbe435de"
      },
      "outputs": [
        {
          "name": "stdout",
          "output_type": "stream",
          "text": [
            "Introduzca un numero del 1 al 5: 4\n",
            "El numero es mayor o igual a 3\n"
          ]
        }
      ],
      "source": [
        "#Ejercicio 7 IF+ELIF\n",
        "#Pablo Picó\n",
        "#7-12-2022\n",
        "n1=int(input(\"Introduzca un numero del 1 al 5: \"))\n",
        "if n1>=3:\n",
        "  print(\"El numero es mayor o igual a 3\")\n",
        "elif n1<3:\n",
        "  print(\"El numero es menor que 3\")"
      ]
    },
    {
      "cell_type": "code",
      "execution_count": null,
      "metadata": {
        "colab": {
          "base_uri": "https://localhost:8080/"
        },
        "id": "8ivqQwA29y9W",
        "outputId": "6acb69d1-9f8b-4428-8893-5837a7914d7f"
      },
      "outputs": [
        {
          "name": "stdout",
          "output_type": "stream",
          "text": [
            "El numero es mayor o igual a 1\n",
            "El numero es menor que 100\n"
          ]
        }
      ],
      "source": [
        "#Ejercicio 7 IF+IF\n",
        "#Pablo Picó\n",
        "#7-12-2022\n",
        "a=10\n",
        "if a>=1:\n",
        "  print(\"El numero es mayor o igual a 1\")\n",
        "if n1<100:\n",
        "  print(\"El numero es menor que 100\")"
      ]
    },
    {
      "cell_type": "code",
      "execution_count": null,
      "metadata": {
        "colab": {
          "base_uri": "https://localhost:8080/"
        },
        "id": "kFQETIKi4Vkv",
        "outputId": "1b598de9-e79d-4e45-d150-27d8b90f7b65"
      },
      "outputs": [
        {
          "name": "stdout",
          "output_type": "stream",
          "text": [
            "Bienvenido a la calculadora: \n",
            "Elija una de las siguientes opciones:\n",
            "1.Suma\n",
            "2.Resta\n",
            "3.Multiplicación\n",
            "4.División decimal\n",
            "5.División entera\n",
            "6.Potencia\n",
            "0.Salir\n",
            "Seleccione la operación que desee:8\n",
            "No ha escogido ninguna de las opciones.\n",
            "Bienvenido a la calculadora: \n",
            "Elija una de las siguientes opciones:\n",
            "1.Suma\n",
            "2.Resta\n",
            "3.Multiplicación\n",
            "4.División decimal\n",
            "5.División entera\n",
            "6.Potencia\n",
            "0.Salir\n",
            "Seleccione la operación que desee:8\n",
            "No ha escogido ninguna de las opciones.\n",
            "Bienvenido a la calculadora: \n",
            "Elija una de las siguientes opciones:\n",
            "1.Suma\n",
            "2.Resta\n",
            "3.Multiplicación\n",
            "4.División decimal\n",
            "5.División entera\n",
            "6.Potencia\n",
            "0.Salir\n",
            "Seleccione la operación que desee:0\n",
            "Salir\n"
          ]
        }
      ],
      "source": [
        "#Ejercicio 8 Creación calculadora preguntando hasta que pulse 0\n",
        "#Pablo Picó\n",
        "#5/12/2022\n",
        "seleccion=[\"1\",\"2\",\"3\",\"4\",\"5\",\"6\"]\n",
        "while seleccion!=\"0\":\n",
        "  print(\"Bienvenido a la calculadora: \")\n",
        "  print(\"Elija una de las siguientes opciones:\")\n",
        "  print(\"1.Suma\")\n",
        "  print(\"2.Resta\")\n",
        "  print(\"3.Multiplicación\")\n",
        "  print(\"4.División decimal\")\n",
        "  print(\"5.División entera\")\n",
        "  print(\"6.Potencia\")\n",
        "  print(\"0.Salir\")\n",
        "  seleccion=input(\"Seleccione la operación que desee:\")\n",
        "  \n",
        "\n",
        "  if seleccion in [\"1\",\"2\",\"3\",\"4\",\"5\",\"6\"]:\n",
        "    num1=float(input(\"Introduzca un numero: \"))\n",
        "    num2=float(input(\"Introduzca otro numero: \"))\n",
        "\n",
        "  if seleccion==\"1\":\n",
        "    print(\"La suma entre los dos numeros es:\",float(num1)+float(num2))\n",
        "  elif seleccion==\"2\":\n",
        "    print(\"La resta entre los dos numeros es:\",float(num1)-float(num2))\n",
        "  elif seleccion==\"3\":\n",
        "    print(\"La multiplicacion entre los dos numeros es:\",float(num1)*float(num2))\n",
        "  elif seleccion==\"4\":\n",
        "    print(\"La división decimal entre los dos numeros es:\",float(num1)/float(num2))\n",
        "  elif seleccion==\"5\":\n",
        "    print(\"La división entera entre los dos numeros es:\",int(num1)//int(num2))\n",
        "    print(\"El resto de la división entera es:\",int(num1)%int(num2))\n",
        "  elif seleccion==\"6\":\n",
        "    print(\"La potencia entre los dos numeros es:\",float(num1)**float(num2))\n",
        "  elif seleccion==\"0\":\n",
        "    print(\"Salir\")\n",
        "  else:\n",
        "    print(\"No ha escogido ninguna de las opciones.\")"
      ]
    },
    {
      "cell_type": "code",
      "execution_count": null,
      "metadata": {
        "colab": {
          "background_save": true,
          "base_uri": "https://localhost:8080/"
        },
        "id": "HSHyw-vW-XPH",
        "outputId": "f695150e-b306-40cb-b503-297f4f03691d"
      },
      "outputs": [
        {
          "name": "stdout",
          "output_type": "stream",
          "text": [
            "Bienvenido a la calculadora: \n",
            "Elija una de las siguientes opciones:\n",
            "1.Suma\n",
            "2.Resta\n",
            "3.Multiplicación\n",
            "4.División decimal\n",
            "5.División entera\n",
            "6.Potencia\n",
            "0.Salir\n"
          ]
        }
      ],
      "source": [
        "#Ejercicio 9 Creación calculadora preguntando hasta 10 veces\n",
        "#Pablo Picó\n",
        "#5/12/2022\n",
        "print(\"Bienvenido a la calculadora: \")\n",
        "seleccion=[\"1\",\"2\",\"3\",\"4\",\"5\",\"6\"]\n",
        "while seleccion!=\"0\":\n",
        "  print(\"Elija una de las siguientes opciones:\")\n",
        "  print(\"1.Suma\")\n",
        "  print(\"2.Resta\")\n",
        "  print(\"3.Multiplicación\")\n",
        "  print(\"4.División decimal\")\n",
        "  print(\"5.División entera\")\n",
        "  print(\"6.Potencia\")\n",
        "  print(\"0.Salir\")\n",
        "  seleccion=input(\"Seleccione la operación que desee:\")\n",
        "  \n",
        "\n",
        "  if seleccion in [\"1\",\"2\",\"3\",\"4\",\"5\",\"6\"]:\n",
        "    num1=float(input(\"Introduzca un numero: \"))\n",
        "    num2=float(input(\"Introduzca otro numero: \"))\n",
        "\n",
        "  if seleccion==\"1\":\n",
        "    print(\"La suma entre los dos numeros es:\",float(num1)+float(num2))\n",
        "  elif seleccion==\"2\":\n",
        "    print(\"La resta entre los dos numeros es:\",float(num1)-float(num2))\n",
        "  elif seleccion==\"3\":\n",
        "    print(\"La multiplicacion entre los dos numeros es:\",float(num1)*float(num2))\n",
        "  elif seleccion==\"4\":\n",
        "    print(\"La división decimal entre los dos numeros es:\",float(num1)/float(num2))\n",
        "  elif seleccion==\"5\":\n",
        "    print(\"La división entera entre los dos numeros es:\",int(num1)//int(num2))\n",
        "    print(\"El resto de la división entera es:\",int(num1)%int(num2))\n",
        "  elif seleccion==\"6\":\n",
        "    print(\"La potencia entre los dos numeros es:\",float(num1)**float(num2))\n",
        "  elif seleccion==\"0\":\n",
        "    print(\"Salir\")\n",
        "  else:\n",
        "    print(\"No ha escogido ninguna de las opciones.\")"
      ]
    },
    {
      "cell_type": "code",
      "execution_count": null,
      "metadata": {
        "colab": {
          "background_save": true,
          "base_uri": "https://localhost:8080/"
        },
        "id": "F7YdfgiWAJX5",
        "outputId": "2d944571-b9b3-49e7-af47-4e25e61cd919"
      },
      "outputs": [
        {
          "name": "stdout",
          "output_type": "stream",
          "text": [
            "Ha acertado False\n",
            "El número que estoy pensando es mayor True\n",
            "Ha acertado False\n",
            "El número que estoy pensando es mayor True\n",
            "Ha acertado False\n",
            "El número que estoy pensando es mayor True\n",
            "Ha acertado False\n",
            "El número que estoy pensando es mayor True\n",
            "Ha acertado False\n",
            "El número que estoy pensando es mayor False\n",
            "Ha acertado False\n",
            "El número que estoy pensando es mayor False\n",
            "Ha acertado False\n",
            "El número que estoy pensando es mayor False\n",
            "Ha acertado False\n",
            "El número que estoy pensando es mayor False\n",
            "Ha acertado False\n",
            "El número que estoy pensando es mayor False\n",
            "Ha acertado False\n",
            "El número que estoy pensando es mayor False\n",
            "Ha acertado False\n",
            "El número que estoy pensando es mayor False\n",
            "Ha acertado False\n",
            "El número que estoy pensando es mayor False\n",
            "Ha acertado False\n",
            "El número que estoy pensando es mayor True\n",
            "Ha acertado False\n",
            "El número que estoy pensando es mayor True\n"
          ]
        }
      ],
      "source": [
        "#Ejercicio 9: Escriba un número entero para acertar el que estoy pensando hasta 10 veces\n",
        "cuenta=1\n",
        "a=5\n",
        "b=a+1\n",
        "while (a!=b) and (cuenta<=10):\n",
        "  b=int(input(\"Introduce un número entero: \"))\n",
        "\n",
        "\n",
        "  print(\"Ha acertado\", b==a)\n",
        "  print(\"El número que estoy pensando es mayor\", a>b)"
      ]
    },
    {
      "cell_type": "code",
      "execution_count": null,
      "metadata": {
        "id": "rFMKgAECRwW9"
      },
      "outputs": [],
      "source": [
        "#Ejercicio 10"
      ]
    }
  ],
  "metadata": {
    "colab": {
      "provenance": [],
      "authorship_tag": "ABX9TyOBwIlrx1P/m7P+u87pfBBZ",
      "include_colab_link": true
    },
    "kernelspec": {
      "display_name": "Python 3",
      "name": "python3"
    },
    "language_info": {
      "name": "python"
    }
  },
  "nbformat": 4,
  "nbformat_minor": 0
}